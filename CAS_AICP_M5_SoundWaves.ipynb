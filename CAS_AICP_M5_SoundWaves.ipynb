{
  "nbformat": 4,
  "nbformat_minor": 0,
  "metadata": {
    "colab": {
      "provenance": [],
      "include_colab_link": true
    },
    "kernelspec": {
      "name": "python3",
      "display_name": "Python 3"
    },
    "language_info": {
      "name": "python"
    }
  },
  "cells": [
    {
      "cell_type": "markdown",
      "metadata": {
        "id": "view-in-github",
        "colab_type": "text"
      },
      "source": [
        "<a href=\"https://colab.research.google.com/github/FlxLab/CASAICP-M5-Soundwaves/blob/main/CAS_AICP_M5_SoundWaves.ipynb\" target=\"_parent\"><img src=\"https://colab.research.google.com/assets/colab-badge.svg\" alt=\"Open In Colab\"/></a>"
      ]
    },
    {
      "cell_type": "markdown",
      "source": [
        "# Basic Sound and Waves with Python\n",
        "- Creating and playing audio files\n",
        "- In order to create and generate sound, it is helpful to understand some of the underlying physics, i.e. waves\n",
        "\n",
        "This notebook is a copy and paste from http://uwmsk.org/jupyter/Jupyter_tutorial.html."
      ],
      "metadata": {
        "id": "fYPWI_b3O0Ku"
      }
    },
    {
      "cell_type": "markdown",
      "source": [
        "**Audio simulation 1: a simple sine wave tone generator**\n",
        "\n",
        "The intensity of a single pure audio tone is given by the following formula:\n",
        "\n",
        "$$I=sin(2πft)$$\n",
        "\n",
        "where t is time, and f is the frequency of the tone in Hz.\n",
        "\n",
        "To create our tone, we will use the numpy (Numerical Python) library.\n",
        "\n",
        "We will create a 1.5 second tone that is composed of a certain number of samples per second. For this example, we will use a sampling frequency of 44,100 Hz, which is the same sampling frequency used for compact discs.\n",
        "\n",
        "For this example, we will produce a 440 Hz tone, which is the A above middle C on a piano). One could use this tone to tune one's guitar or other instrument."
      ],
      "metadata": {
        "id": "mXYGZyeqMEXP"
      }
    },
    {
      "cell_type": "code",
      "source": [
        "import numpy as np # load the Numerical Python library\n",
        "\n",
        "fc = 440 # tone frequency --- A440\n",
        "fs = 44100 # sampling frequency, Hz\n",
        "\n",
        "T = 1.5 # length of tone in seconds\n",
        "twopi = 2*np.pi\n",
        "\n",
        "t = np.linspace(0, T, int(T*fs), endpoint=False) # time variable\n",
        "\n",
        "output = np.sin(twopi*fc*t)"
      ],
      "metadata": {
        "id": "DHOZRroZNGMz"
      },
      "execution_count": 1,
      "outputs": []
    },
    {
      "cell_type": "markdown",
      "source": [
        "To play our tone, we will use the Python Audio library."
      ],
      "metadata": {
        "id": "zMpADgHCNX3D"
      }
    },
    {
      "cell_type": "code",
      "source": [
        "from IPython.display import Audio\n",
        "\n",
        "Audio(output, rate=fs)"
      ],
      "metadata": {
        "id": "9JTkJ41fNR6-"
      },
      "execution_count": null,
      "outputs": []
    },
    {
      "cell_type": "markdown",
      "source": [
        "**Audio simulation 2: Mixing two frequencies**\n",
        "\n",
        "Let's start with two pure audio sine waves. For this example, we have chosen two sounds with frequencies of 15 and 17 Hz. The following bit of Python code will plot these two waveforms for us:"
      ],
      "metadata": {
        "id": "zIq09H1cNqBf"
      }
    },
    {
      "cell_type": "code",
      "source": [
        "# display inline on this page\n",
        "%matplotlib inline\n",
        "\n",
        "import matplotlib.pyplot as plt # load the Python plotting library\n",
        "\n",
        "freq_1 = 15 #  frequency 1\n",
        "freq_2 = 17 # frequency 2\n",
        "fs = 3500 # sampling frequency, Hz\n",
        "\n",
        "T = 3.0 # length of tone in seconds\n",
        "twopi = 2*np.pi\n",
        "\n",
        "t = np.linspace(0, T, int(T*fs), endpoint=False) # time variable\n",
        "\n",
        "freq_1_output = np.sin(twopi*freq_1*t)\n",
        "freq_2_output = np.sin(twopi*freq_2*t)\n",
        "\n",
        "# now plot these two audio tones\n",
        "f, axarr = plt.subplots(2, sharex=True)\n",
        "axarr[0].plot(t, freq_1_output)\n",
        "axarr[0].set_title('frequency = 15 Hz')\n",
        "axarr[1].plot(t, freq_2_output)\n",
        "axarr[1].set_title('frequency = 17 Hz')\n",
        "axarr[1].set_xlabel('seconds')"
      ],
      "metadata": {
        "id": "Hg4_H67MNaRk"
      },
      "execution_count": null,
      "outputs": []
    },
    {
      "cell_type": "markdown",
      "source": [
        "Next, we will then mix two tones together. As these two tones go in and out of phase with each other, an interference pattern will be produced.\n",
        "\n",
        "The next bit of Python code plots this interference pattern for us:"
      ],
      "metadata": {
        "id": "ph6EbVxPOJCu"
      }
    },
    {
      "cell_type": "code",
      "source": [
        "f1 = 15 #  frequency 1\n",
        "f2 = 17 # frequency 2\n",
        "fs = 44100 # sampling frequency, Hz\n",
        "\n",
        "T = 3.0 # length of tone in seconds\n",
        "twopi = 2*np.pi\n",
        "\n",
        "t = np.linspace(0, T, int(T*fs), endpoint=False) # time variable\n",
        "\n",
        "output = np.sin(twopi*f1*t) + np.sin(twopi*f2*t)\n",
        "\n",
        "\n",
        "import matplotlib.pyplot as plt # load the Python plotting library\n",
        "\n",
        "plt.figure(figsize=(15,6))\n",
        "plt.plot(t, output)\n",
        "plt.ylabel(\"Intensity\")\n",
        "plt.xlabel(\"time (sec)\")\n",
        "plt.title(\"Interference pattern of two tones\")\n",
        "plt.show()\n",
        "\n",
        "# Audio(output, rate=fs)"
      ],
      "metadata": {
        "id": "N_otHrrZON8i"
      },
      "execution_count": null,
      "outputs": []
    },
    {
      "cell_type": "markdown",
      "source": [
        "At the beginning of the plot, the two sounds are in phase with each other, so they add together, producing a signal that is twice as big as eithe of the original signals. When the two sounds are out of phase with each other, they cancel each other out. The frequency of this interference pattern is equal to the difference in the two frequencies. Since we have chosen two frequencies that differ by ony 2 Hz, the interference pattern will occur twice per second.\n",
        "\n",
        "The frequencies of these two sine waves were chosen to make it easy to see the details of the interference pattern. However, both of these frequencies are below the range of human hearing. Therefore, let's raise each frequency up into the audio range, but still keep the difference in the two frequencies equal to 2 Hz. For this example, we will use tones of 370 and 372 Hz.\n",
        "\n",
        "Let's plot these and see how the mixture looks..."
      ],
      "metadata": {
        "id": "zYdHWEFAOXTm"
      }
    },
    {
      "cell_type": "code",
      "source": [
        "f1 = 370 #  frequency 1\n",
        "f2 = 372 # frequency 2\n",
        "fs = 44100 # sampling frequency, Hz\n",
        "\n",
        "T = 3.0 # length of tone in seconds\n",
        "twopi = 2*np.pi\n",
        "\n",
        "t = np.linspace(0, T, int(T*fs), endpoint=False) # time variable\n",
        "\n",
        "output = np.sin(twopi*f1*t) + np.sin(twopi*f2*t)\n",
        "\n",
        "import matplotlib.pyplot as plt # load the Python plotting library\n",
        "\n",
        "plt.figure(figsize=(15,6))\n",
        "plt.plot(t, output)\n",
        "plt.ylabel(\"Intensity\")\n",
        "plt.xlabel(\"time (sec)\")\n",
        "plt.title(\"Interference pattern of two tones\")\n",
        "plt.show()"
      ],
      "metadata": {
        "id": "IVa1-eCXOKcJ"
      },
      "execution_count": null,
      "outputs": []
    },
    {
      "cell_type": "markdown",
      "source": [
        "The following code will mix these two tones together and let us hear listen to the mixture."
      ],
      "metadata": {
        "id": "XeHcfMW5VAHX"
      }
    },
    {
      "cell_type": "code",
      "source": [
        "f1 = 370 #  frequency 1\n",
        "f2 = 372 # frequency 2\n",
        "fs = 44100 # sampling frequency, Hz\n",
        "\n",
        "T = 3.0 # length of tone in seconds\n",
        "twopi = 2*np.pi\n",
        "\n",
        "t = np.linspace(0, T, int(T*fs), endpoint=False) # time variable\n",
        "\n",
        "output = np.sin(twopi*f1*t) + np.sin(twopi*f2*t)\n",
        "\n",
        "Audio(output, rate=fs)"
      ],
      "metadata": {
        "id": "Phd286QxO-v9"
      },
      "execution_count": null,
      "outputs": []
    },
    {
      "cell_type": "markdown",
      "source": [
        "**Audio simulation 3: Doppler effect**\n",
        "\n",
        "This tutorial is a bit mathematical. Skip it if you are not interested!\n",
        "\n",
        "If you have ever heard the shift in frequency of a train horn as it passes by at a railroad crossing, you have heard the Doppler effect in action.\n",
        "\n",
        "The Doppler effect is used by policemen to nab speeding motorists, and by ultrasonographers to measure the speed and direction of flowing blood.\n",
        "\n",
        "For an observer at rest, Doppler shift is expressed by the following equation:\n",
        "\n",
        "$$f_{obs}=f_{orig}\\times\\frac{c}{c+v}$$\n",
        "\n",
        "where $f_{orig}$ is the original frequency,\n",
        "c velocity of sound in the medium, $v$ the speed of the source, and $f_{obs}$ the observed frequency.\n",
        "\n",
        "Another factor determining Doppler shift is the radial velocity of the sound source. If a train is coming directly toward you, its radial velocity will be the same as its actual velocity. The frequency of the horn will stay the same until it hits you. As soon as it hits you and drives away over your mangled, headless body, its frequency will immediately drop down in pitch and stay the same as it recedes in the distance.\n",
        "\n",
        "Fortunately, most of the time we are not struck by oncoming trains because we are safely off the tracks, waiting for it to pass by. In this instance, the radial velocity is related to the actual velocity by the following equation:\n",
        "\n",
        "$$v_{radial}=v_{source} \\times \\cos{\\theta}$$\n",
        "\n",
        "where θ is the angle between the source's forward velocity and the line of sight from the source to the observer."
      ],
      "metadata": {
        "id": "3c-pbUxgW7NH"
      }
    },
    {
      "cell_type": "markdown",
      "source": [
        "![image.png](data:image/png;base64,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)"
      ],
      "metadata": {
        "id": "XIZ44QxNVSxm"
      }
    },
    {
      "cell_type": "markdown",
      "source": [
        "\n",
        "  An oncoming train's horn will be higher in pitch than that of a train standing still. As the train gets closer to the listener, the pitch of the horn drops in pitch. At the moment the train hits the crossing, the pitch will be the same as a stationary train. As the train travels away from the crossing, its pitch drops further.\n",
        "\n",
        "So, let's assume that we are stopped at a train crossing, and our blue car is 50 m back from the tracks. The simulation below assumes that the train will be approaching from the left at 27 m/s. We will also assume that the train's horn is a single 1000 Hz tone, and that the speed of sound in air is 340 m/sec.\n",
        "\n",
        "The following Python code plots the frequencies we will hear as the train goes by:\n",
        "\n"
      ],
      "metadata": {
        "id": "ZbtFkdAaQGye"
      }
    },
    {
      "cell_type": "code",
      "source": [
        "import numpy as np\n",
        "import matplotlib.pyplot as plt\n",
        "\n",
        "forig = 1000 # original frequency in Hz\n",
        "c = 340 # speed of sound in air in m/s\n",
        "v = 27 # train velocity in m/s\n",
        "\n",
        "# Make an array with radial speed of the train at every meter\n",
        "d = np.arange(-150, 150, 1) # observation window (m)\n",
        "b = 50 # distance from observer to tracks\n",
        "v_rad = v * np.array(d)/np.sqrt(np.square(np.array(d)) + b*b) # cos(theta)\n",
        "\n",
        "# Doppler effect fomulae\n",
        "fobs = forig * c/(c + np.array(v_rad))\n",
        "\n",
        "#print(fobs)\n",
        "\n",
        "plt.figure(figsize=(9,6))\n",
        "plt.axis([-150,150,800,1200])\n",
        "plt.plot(d,fobs)\n",
        "plt.axhline(y=1000, xmin=-150, xmax=150, linewidth=1, linestyle='--', color = 'r')\n",
        "plt.ylabel(\"Frequency (Hz)\")\n",
        "plt.xlabel(\"train position relative to crossing (m)\")\n",
        "plt.title(\"Doppler shift at {velocity:.0f} m/s of {frequency:.0f} Hz train horn at {distance} meters from the tracks\" .format(velocity = S, distance = b, frequency = vc))\n",
        "plt.show()"
      ],
      "metadata": {
        "id": "CKGuvdnnOlB8"
      },
      "execution_count": null,
      "outputs": []
    },
    {
      "cell_type": "markdown",
      "source": [
        "Now, let's see what that sounds like. The following Python code will create an audio waveform we can listen to:"
      ],
      "metadata": {
        "id": "YpE8L_1oQck2"
      }
    },
    {
      "cell_type": "code",
      "source": [
        "fs = 44100 # sampling frequency, Hz\n",
        "# transit time through our observation window\n",
        "tt = 150/v\n",
        "T = 2.0 # length of tone in seconds\n",
        "twopi = 2*np.pi\n",
        "\n",
        "t = np.linspace(0, tt, int(tt*fs), endpoint=False) # array with times\n",
        "\n",
        "#t = (d + tt/2)/S\n",
        "# thus St = d + tt/2 --> d = St - dmax/2S\n",
        "\n",
        "# d = distance of train from crossing\n",
        "d = v*np.array(t) - 150/2\n",
        "\n",
        "#   add 0.00001 to b to prevent divide by 0 errors\n",
        "v_rad = v*np.array(d)/np.sqrt(np.square(d) + (b+0.000001)*(b+0.000001))\n",
        "\n",
        "# Doppler-shifted frequency component\n",
        "fobs = forig * c/(c + v_rad)\n",
        "\n",
        "output = np.sin(twopi*np.multiply(fobs, t))\n",
        "\n",
        "Audio(output, rate=fs)"
      ],
      "metadata": {
        "id": "qQUr3l44QWWp"
      },
      "execution_count": null,
      "outputs": []
    },
    {
      "cell_type": "markdown",
      "source": [
        "However, this 1000 Hz tone sounds more like a slide whistle than an actual train horn. Let's try one more audio simulation and see if we can create a more convincing train sound (NOT TODAY)."
      ],
      "metadata": {
        "id": "zFJB04kHQo7D"
      }
    },
    {
      "cell_type": "code",
      "source": [],
      "metadata": {
        "id": "YsXLKoXvQgy2"
      },
      "execution_count": null,
      "outputs": []
    }
  ]
}